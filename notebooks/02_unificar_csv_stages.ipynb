{
 "cells": [
  {
   "cell_type": "code",
   "execution_count": null,
   "id": "ac548f31",
   "metadata": {},
   "outputs": [
    {
     "name": "stdout",
     "output_type": "stream",
     "text": [
      "['00_giro_d_italia_2015_2024_etapas.csv', '00_tour_france_2015_2016_etapas.csv', '00_tour_france_2017_2024_etapas.csv', '00_vuelta_espana_2015_2024_etapas.csv', 'etapas_final.csv', 'perfiles_etapas_all.csv']\n",
      "Procesando archivo: 00_giro_d_italia_2015_2024_etapas.csv\n"
     ]
    },
    {
     "name": "stderr",
     "output_type": "stream",
     "text": [
      "C:\\Users\\victo\\AppData\\Local\\Temp\\ipykernel_4032\\3476470626.py:22: DtypeWarning: Columns (9) have mixed types. Specify dtype option on import or set low_memory=False.\n",
      "  df_temp = pd.read_csv(archivo)\n"
     ]
    },
    {
     "name": "stdout",
     "output_type": "stream",
     "text": [
      "antes de renombrar las columnas: C:\\Users\\victo\\Downloads\\Cycling_points_uci_VFG\\data\\raw\\00_giro_d_italia_2015_2024_etapas.csv\n",
      "Giro\n",
      "Procesando archivo: 00_tour_france_2015_2016_etapas.csv\n",
      "antes de renombrar las columnas: C:\\Users\\victo\\Downloads\\Cycling_points_uci_VFG\\data\\raw\\00_tour_france_2015_2016_etapas.csv\n",
      "Tour\n",
      "Procesando archivo: 00_tour_france_2017_2024_etapas.csv\n",
      "antes de renombrar las columnas: C:\\Users\\victo\\Downloads\\Cycling_points_uci_VFG\\data\\raw\\00_tour_france_2017_2024_etapas.csv\n",
      "Tour\n",
      "Procesando archivo: 00_vuelta_espana_2015_2024_etapas.csv\n"
     ]
    },
    {
     "name": "stderr",
     "output_type": "stream",
     "text": [
      "C:\\Users\\victo\\AppData\\Local\\Temp\\ipykernel_4032\\3476470626.py:22: DtypeWarning: Columns (9,12) have mixed types. Specify dtype option on import or set low_memory=False.\n",
      "  df_temp = pd.read_csv(archivo)\n"
     ]
    },
    {
     "name": "stdout",
     "output_type": "stream",
     "text": [
      "antes de renombrar las columnas: C:\\Users\\victo\\Downloads\\Cycling_points_uci_VFG\\data\\raw\\00_vuelta_espana_2015_2024_etapas.csv\n",
      "Procesando archivo: etapas_final.csv\n",
      "Procesando archivo: perfiles_etapas_all.csv\n",
      "Unificando archivos CSV...\n",
      "Archivo final guardado en: C:\\Users\\victo\\Downloads\\Cycling_points_uci_VFG\\data\\raw\\etapas_final.csv\n"
     ]
    }
   ],
   "source": [
    "import pandas as pd\n",
    "import os\n",
    "\n",
    "# Ruta relativa a la carpeta donde están los CSV\n",
    "csv_folder = r\"C:\\Users\\victo\\Downloads\\Cycling_points_uci_VFG\\data\\raw\"  # Cambia esto según tu estructura de carpetas\n",
    "\n",
    "# Unir la ruta relativa con el nombre del archivo\n",
    "csv_files = [f for f in os.listdir(csv_folder) if f.endswith('.csv')]\n",
    "\n",
    "print(csv_files)\n",
    "\n",
    "df_final = []\n",
    "# Reunir todas las columnas posibles\n",
    "todas_las_columnas = set()\n",
    "carrera = ''\n",
    "for archivo in csv_files:\n",
    "    print(f\"Procesando archivo: {archivo}\")\n",
    "    if archivo.startswith('00_'):\n",
    "            carrera = archivo\n",
    "            archivo = os.path.join(csv_folder, archivo)\n",
    "            df_temp = pd.read_csv(archivo)\n",
    "\n",
    "            order_columns = ['Rnk', 'GC', 'Specialty', 'Rider', 'Team', 'Age', 'Time', 'Etapa', 'Anio', 'UCI']\n",
    "            df_temp = df_temp[order_columns]\n",
    "\n",
    "            print(f\"antes de renombrar las columnas: {archivo}\")\n",
    "            \n",
    "\n",
    "\n",
    "            #añado la columna de archivo\n",
    "            if carrera.startswith('00_giro'):\n",
    "                carrera = 'Giro'\n",
    "                print(\"Giro\")\n",
    "            elif carrera.startswith('00_tour'):\n",
    "                carrera = 'Tour'\n",
    "                print(\"Tour\")\n",
    "            elif carrera.startswith('00_vuelta'):\n",
    "                carrera = 'Vuelta'\n",
    "            df_temp['Carrera'] = carrera\n",
    "\n",
    "            df_final.append(df_temp)\n",
    "    continue\n",
    "\n",
    "# Unificar los CSV\n",
    "#\n",
    "print(\"Unificando archivos CSV...\")\n",
    "\n",
    "# Concatenar todos los DataFrames en uno solo\n",
    "df_final = pd.concat(df_final, ignore_index=False)\n",
    "\n",
    "#Guardar el DataFrame final en un archivo CSV\n",
    "output_file = os.path.join(csv_folder, 'etapas_final.csv')\n",
    "df_final.to_csv(output_file, index=False)\n",
    "print(f\"Archivo final guardado en: {output_file}\")\n",
    "\n",
    "\n",
    "    \n",
    "\n",
    "\n",
    "\n"
   ]
  }
 ],
 "metadata": {
  "kernelspec": {
   "display_name": "cycling_points_uci_VFG",
   "language": "python",
   "name": "python3"
  },
  "language_info": {
   "codemirror_mode": {
    "name": "ipython",
    "version": 3
   },
   "file_extension": ".py",
   "mimetype": "text/x-python",
   "name": "python",
   "nbconvert_exporter": "python",
   "pygments_lexer": "ipython3",
   "version": "3.12.11"
  }
 },
 "nbformat": 4,
 "nbformat_minor": 5
}
